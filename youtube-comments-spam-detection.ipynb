{
 "cells": [
  {
   "cell_type": "markdown",
   "id": "ad80032e",
   "metadata": {
    "papermill": {
     "duration": 0.010675,
     "end_time": "2024-08-31T06:35:20.914628",
     "exception": false,
     "start_time": "2024-08-31T06:35:20.903953",
     "status": "completed"
    },
    "tags": []
   },
   "source": [
    "# Import Necessary Libraries"
   ]
  },
  {
   "cell_type": "code",
   "execution_count": 2,
   "id": "0c9c9717",
   "metadata": {
    "execution": {
     "iopub.execute_input": "2024-08-31T06:35:20.938634Z",
     "iopub.status.busy": "2024-08-31T06:35:20.938089Z",
     "iopub.status.idle": "2024-08-31T06:35:23.731107Z",
     "shell.execute_reply": "2024-08-31T06:35:23.729861Z"
    },
    "papermill": {
     "duration": 2.808375,
     "end_time": "2024-08-31T06:35:23.734039",
     "exception": false,
     "start_time": "2024-08-31T06:35:20.925664",
     "status": "completed"
    },
    "tags": []
   },
   "outputs": [],
   "source": [
    "import numpy as np\n",
    "import pandas as pd\n",
    "import matplotlib.pyplot as plt\n",
    "import seaborn as sns\n",
    "\n",
    "from sklearn.feature_extraction.text import TfidfVectorizer\n",
    "from sklearn.model_selection import train_test_split\n",
    "from sklearn.svm import LinearSVC\n",
    "from sklearn.naive_bayes import GaussianNB\n",
    "from sklearn.ensemble import RandomForestClassifier\n",
    "from sklearn.metrics import classification_report, confusion_matrix, accuracy_score\n",
    "from sklearn.pipeline import Pipeline\n",
    "from sklearn.feature_extraction.text import TfidfVectorizer\n",
    "\n",
    "import warnings\n",
    "warnings.filterwarnings(\"ignore\")"
   ]
  },
  {
   "cell_type": "markdown",
   "id": "b3004987",
   "metadata": {
    "papermill": {
     "duration": 0.010781,
     "end_time": "2024-08-31T06:35:23.756344",
     "exception": false,
     "start_time": "2024-08-31T06:35:23.745563",
     "status": "completed"
    },
    "tags": []
   },
   "source": [
    "# Load the Data"
   ]
  },
  {
   "cell_type": "code",
   "execution_count": 3,
   "id": "5e0743e5",
   "metadata": {
    "execution": {
     "iopub.execute_input": "2024-08-31T06:35:23.781329Z",
     "iopub.status.busy": "2024-08-31T06:35:23.780706Z",
     "iopub.status.idle": "2024-08-31T06:35:23.823173Z",
     "shell.execute_reply": "2024-08-31T06:35:23.821904Z"
    },
    "papermill": {
     "duration": 0.058236,
     "end_time": "2024-08-31T06:35:23.826058",
     "exception": false,
     "start_time": "2024-08-31T06:35:23.767822",
     "status": "completed"
    },
    "tags": []
   },
   "outputs": [],
   "source": [
    "df = pd.read_csv(\"data/Youtube-Spam-Dataset.csv\")"
   ]
  },
  {
   "cell_type": "code",
   "execution_count": 4,
   "id": "ea9e8da1",
   "metadata": {
    "execution": {
     "iopub.execute_input": "2024-08-31T06:35:23.850208Z",
     "iopub.status.busy": "2024-08-31T06:35:23.849800Z",
     "iopub.status.idle": "2024-08-31T06:35:23.875187Z",
     "shell.execute_reply": "2024-08-31T06:35:23.873935Z"
    },
    "papermill": {
     "duration": 0.040732,
     "end_time": "2024-08-31T06:35:23.878096",
     "exception": false,
     "start_time": "2024-08-31T06:35:23.837364",
     "status": "completed"
    },
    "tags": []
   },
   "outputs": [
    {
     "data": {
      "text/html": [
       "<div>\n",
       "<style scoped>\n",
       "    .dataframe tbody tr th:only-of-type {\n",
       "        vertical-align: middle;\n",
       "    }\n",
       "\n",
       "    .dataframe tbody tr th {\n",
       "        vertical-align: top;\n",
       "    }\n",
       "\n",
       "    .dataframe thead th {\n",
       "        text-align: right;\n",
       "    }\n",
       "</style>\n",
       "<table border=\"1\" class=\"dataframe\">\n",
       "  <thead>\n",
       "    <tr style=\"text-align: right;\">\n",
       "      <th></th>\n",
       "      <th>COMMENT_ID</th>\n",
       "      <th>AUTHOR</th>\n",
       "      <th>DATE</th>\n",
       "      <th>CONTENT</th>\n",
       "      <th>VIDEO_NAME</th>\n",
       "      <th>CLASS</th>\n",
       "    </tr>\n",
       "  </thead>\n",
       "  <tbody>\n",
       "    <tr>\n",
       "      <th>0</th>\n",
       "      <td>LZQPQhLyRh80UYxNuaDWhIGQYNQ96IuCg-AYWqNPjpU</td>\n",
       "      <td>Julius NM</td>\n",
       "      <td>2013-11-07T06:20:48</td>\n",
       "      <td>Huh, anyway check out this you[tube] channel: ...</td>\n",
       "      <td>PSY - GANGNAM STYLE(?????) M/V</td>\n",
       "      <td>1</td>\n",
       "    </tr>\n",
       "    <tr>\n",
       "      <th>1</th>\n",
       "      <td>LZQPQhLyRh_C2cTtd9MvFRJedxydaVW-2sNg5Diuo4A</td>\n",
       "      <td>adam riyati</td>\n",
       "      <td>2013-11-07T12:37:15</td>\n",
       "      <td>Hey guys check out my new channel and our firs...</td>\n",
       "      <td>PSY - GANGNAM STYLE(?????) M/V</td>\n",
       "      <td>1</td>\n",
       "    </tr>\n",
       "    <tr>\n",
       "      <th>2</th>\n",
       "      <td>LZQPQhLyRh9MSZYnf8djyk0gEF9BHDPYrrK-qCczIY8</td>\n",
       "      <td>Evgeny Murashkin</td>\n",
       "      <td>2013-11-08T17:34:21</td>\n",
       "      <td>just for test I have to say murdev.com</td>\n",
       "      <td>PSY - GANGNAM STYLE(?????) M/V</td>\n",
       "      <td>1</td>\n",
       "    </tr>\n",
       "    <tr>\n",
       "      <th>3</th>\n",
       "      <td>z13jhp0bxqncu512g22wvzkasxmvvzjaz04</td>\n",
       "      <td>ElNino Melendez</td>\n",
       "      <td>2013-11-09T08:28:43</td>\n",
       "      <td>me shaking my sexy ass on my channel enjoy ^_^ ﻿</td>\n",
       "      <td>PSY - GANGNAM STYLE(?????) M/V</td>\n",
       "      <td>1</td>\n",
       "    </tr>\n",
       "    <tr>\n",
       "      <th>4</th>\n",
       "      <td>z13fwbwp1oujthgqj04chlngpvzmtt3r3dw</td>\n",
       "      <td>GsMega</td>\n",
       "      <td>2013-11-10T16:05:38</td>\n",
       "      <td>watch?v=vtaRGgvGtWQ   Check this out .﻿</td>\n",
       "      <td>PSY - GANGNAM STYLE(?????) M/V</td>\n",
       "      <td>1</td>\n",
       "    </tr>\n",
       "  </tbody>\n",
       "</table>\n",
       "</div>"
      ],
      "text/plain": [
       "                                    COMMENT_ID            AUTHOR  \\\n",
       "0  LZQPQhLyRh80UYxNuaDWhIGQYNQ96IuCg-AYWqNPjpU         Julius NM   \n",
       "1  LZQPQhLyRh_C2cTtd9MvFRJedxydaVW-2sNg5Diuo4A       adam riyati   \n",
       "2  LZQPQhLyRh9MSZYnf8djyk0gEF9BHDPYrrK-qCczIY8  Evgeny Murashkin   \n",
       "3          z13jhp0bxqncu512g22wvzkasxmvvzjaz04   ElNino Melendez   \n",
       "4          z13fwbwp1oujthgqj04chlngpvzmtt3r3dw            GsMega   \n",
       "\n",
       "                  DATE                                            CONTENT  \\\n",
       "0  2013-11-07T06:20:48  Huh, anyway check out this you[tube] channel: ...   \n",
       "1  2013-11-07T12:37:15  Hey guys check out my new channel and our firs...   \n",
       "2  2013-11-08T17:34:21             just for test I have to say murdev.com   \n",
       "3  2013-11-09T08:28:43   me shaking my sexy ass on my channel enjoy ^_^ ﻿   \n",
       "4  2013-11-10T16:05:38            watch?v=vtaRGgvGtWQ   Check this out .﻿   \n",
       "\n",
       "                       VIDEO_NAME  CLASS  \n",
       "0  PSY - GANGNAM STYLE(?????) M/V      1  \n",
       "1  PSY - GANGNAM STYLE(?????) M/V      1  \n",
       "2  PSY - GANGNAM STYLE(?????) M/V      1  \n",
       "3  PSY - GANGNAM STYLE(?????) M/V      1  \n",
       "4  PSY - GANGNAM STYLE(?????) M/V      1  "
      ]
     },
     "execution_count": 4,
     "metadata": {},
     "output_type": "execute_result"
    }
   ],
   "source": [
    "df.head()"
   ]
  },
  {
   "cell_type": "markdown",
   "id": "c3acfd68",
   "metadata": {
    "papermill": {
     "duration": 0.011105,
     "end_time": "2024-08-31T06:35:23.900816",
     "exception": false,
     "start_time": "2024-08-31T06:35:23.889711",
     "status": "completed"
    },
    "tags": []
   },
   "source": [
    "# Sanity Check of Data"
   ]
  },
  {
   "cell_type": "code",
   "execution_count": 5,
   "id": "256a6854",
   "metadata": {
    "execution": {
     "iopub.execute_input": "2024-08-31T06:35:23.925888Z",
     "iopub.status.busy": "2024-08-31T06:35:23.925094Z",
     "iopub.status.idle": "2024-08-31T06:35:23.932940Z",
     "shell.execute_reply": "2024-08-31T06:35:23.931789Z"
    },
    "papermill": {
     "duration": 0.023198,
     "end_time": "2024-08-31T06:35:23.935501",
     "exception": false,
     "start_time": "2024-08-31T06:35:23.912303",
     "status": "completed"
    },
    "tags": []
   },
   "outputs": [
    {
     "data": {
      "text/plain": [
       "(1956, 6)"
      ]
     },
     "execution_count": 5,
     "metadata": {},
     "output_type": "execute_result"
    }
   ],
   "source": [
    "df.shape"
   ]
  },
  {
   "cell_type": "code",
   "execution_count": 6,
   "id": "b85df175",
   "metadata": {
    "execution": {
     "iopub.execute_input": "2024-08-31T06:35:23.961202Z",
     "iopub.status.busy": "2024-08-31T06:35:23.960723Z",
     "iopub.status.idle": "2024-08-31T06:35:23.989982Z",
     "shell.execute_reply": "2024-08-31T06:35:23.988746Z"
    },
    "papermill": {
     "duration": 0.045251,
     "end_time": "2024-08-31T06:35:23.992842",
     "exception": false,
     "start_time": "2024-08-31T06:35:23.947591",
     "status": "completed"
    },
    "tags": []
   },
   "outputs": [
    {
     "name": "stdout",
     "output_type": "stream",
     "text": [
      "<class 'pandas.core.frame.DataFrame'>\n",
      "RangeIndex: 1956 entries, 0 to 1955\n",
      "Data columns (total 6 columns):\n",
      " #   Column      Non-Null Count  Dtype \n",
      "---  ------      --------------  ----- \n",
      " 0   COMMENT_ID  1956 non-null   object\n",
      " 1   AUTHOR      1956 non-null   object\n",
      " 2   DATE        1711 non-null   object\n",
      " 3   CONTENT     1956 non-null   object\n",
      " 4   VIDEO_NAME  1956 non-null   object\n",
      " 5   CLASS       1956 non-null   int64 \n",
      "dtypes: int64(1), object(5)\n",
      "memory usage: 91.8+ KB\n"
     ]
    }
   ],
   "source": [
    "df.info()"
   ]
  },
  {
   "cell_type": "code",
   "execution_count": 7,
   "id": "c2a73c9a",
   "metadata": {
    "execution": {
     "iopub.execute_input": "2024-08-31T06:35:24.018967Z",
     "iopub.status.busy": "2024-08-31T06:35:24.018525Z",
     "iopub.status.idle": "2024-08-31T06:35:24.029819Z",
     "shell.execute_reply": "2024-08-31T06:35:24.028598Z"
    },
    "papermill": {
     "duration": 0.027085,
     "end_time": "2024-08-31T06:35:24.032337",
     "exception": false,
     "start_time": "2024-08-31T06:35:24.005252",
     "status": "completed"
    },
    "tags": []
   },
   "outputs": [
    {
     "data": {
      "text/plain": [
       "COMMENT_ID      0\n",
       "AUTHOR          0\n",
       "DATE          245\n",
       "CONTENT         0\n",
       "VIDEO_NAME      0\n",
       "CLASS           0\n",
       "dtype: int64"
      ]
     },
     "execution_count": 7,
     "metadata": {},
     "output_type": "execute_result"
    }
   ],
   "source": [
    "df.isnull().sum()"
   ]
  },
  {
   "cell_type": "code",
   "execution_count": 8,
   "id": "d9320ce6",
   "metadata": {
    "execution": {
     "iopub.execute_input": "2024-08-31T06:35:24.059611Z",
     "iopub.status.busy": "2024-08-31T06:35:24.058350Z",
     "iopub.status.idle": "2024-08-31T06:35:24.071889Z",
     "shell.execute_reply": "2024-08-31T06:35:24.070535Z"
    },
    "papermill": {
     "duration": 0.029643,
     "end_time": "2024-08-31T06:35:24.074670",
     "exception": false,
     "start_time": "2024-08-31T06:35:24.045027",
     "status": "completed"
    },
    "tags": []
   },
   "outputs": [
    {
     "data": {
      "text/plain": [
       "3"
      ]
     },
     "execution_count": 8,
     "metadata": {},
     "output_type": "execute_result"
    }
   ],
   "source": [
    "df.duplicated().sum()"
   ]
  },
  {
   "cell_type": "code",
   "execution_count": 9,
   "id": "f734a628",
   "metadata": {
    "execution": {
     "iopub.execute_input": "2024-08-31T06:35:24.100976Z",
     "iopub.status.busy": "2024-08-31T06:35:24.100531Z",
     "iopub.status.idle": "2024-08-31T06:35:24.111748Z",
     "shell.execute_reply": "2024-08-31T06:35:24.110572Z"
    },
    "papermill": {
     "duration": 0.027476,
     "end_time": "2024-08-31T06:35:24.114389",
     "exception": false,
     "start_time": "2024-08-31T06:35:24.086913",
     "status": "completed"
    },
    "tags": []
   },
   "outputs": [
    {
     "data": {
      "text/plain": [
       "CLASS\n",
       "1    1005\n",
       "0     951\n",
       "Name: count, dtype: int64"
      ]
     },
     "execution_count": 9,
     "metadata": {},
     "output_type": "execute_result"
    }
   ],
   "source": [
    "df['CLASS'].value_counts()"
   ]
  },
  {
   "cell_type": "markdown",
   "id": "abc02c2e",
   "metadata": {
    "papermill": {
     "duration": 0.011808,
     "end_time": "2024-08-31T06:35:24.138631",
     "exception": false,
     "start_time": "2024-08-31T06:35:24.126823",
     "status": "completed"
    },
    "tags": []
   },
   "source": [
    "# Exploratory Data Anlaysis (EDA)"
   ]
  },
  {
   "cell_type": "markdown",
   "id": "39b38b0e",
   "metadata": {
    "papermill": {
     "duration": 0.011769,
     "end_time": "2024-08-31T06:35:24.162650",
     "exception": false,
     "start_time": "2024-08-31T06:35:24.150881",
     "status": "completed"
    },
    "tags": []
   },
   "source": [
    "## Who are the 5 most commented people?"
   ]
  },
  {
   "cell_type": "code",
   "execution_count": 10,
   "id": "a8af81ae",
   "metadata": {
    "execution": {
     "iopub.execute_input": "2024-08-31T06:35:24.188990Z",
     "iopub.status.busy": "2024-08-31T06:35:24.188569Z",
     "iopub.status.idle": "2024-08-31T06:35:24.200512Z",
     "shell.execute_reply": "2024-08-31T06:35:24.199243Z"
    },
    "papermill": {
     "duration": 0.028152,
     "end_time": "2024-08-31T06:35:24.203086",
     "exception": false,
     "start_time": "2024-08-31T06:35:24.174934",
     "status": "completed"
    },
    "tags": []
   },
   "outputs": [
    {
     "data": {
      "text/plain": [
       "AUTHOR\n",
       "M.E.S              8\n",
       "Louis Bryant       7\n",
       "Shadrach Grentz    7\n",
       "5000palo           7\n",
       "DanteBTV           6\n",
       "Name: count, dtype: int64"
      ]
     },
     "execution_count": 10,
     "metadata": {},
     "output_type": "execute_result"
    }
   ],
   "source": [
    "df[\"AUTHOR\"].value_counts().sort_values(ascending=False)[:5]"
   ]
  },
  {
   "cell_type": "markdown",
   "id": "636c0c38",
   "metadata": {
    "papermill": {
     "duration": 0.012258,
     "end_time": "2024-08-31T06:35:24.227792",
     "exception": false,
     "start_time": "2024-08-31T06:35:24.215534",
     "status": "completed"
    },
    "tags": []
   },
   "source": [
    "## What are the 5 most commented videos?"
   ]
  },
  {
   "cell_type": "code",
   "execution_count": 11,
   "id": "c4294638",
   "metadata": {
    "execution": {
     "iopub.execute_input": "2024-08-31T06:35:24.255004Z",
     "iopub.status.busy": "2024-08-31T06:35:24.253876Z",
     "iopub.status.idle": "2024-08-31T06:35:24.265319Z",
     "shell.execute_reply": "2024-08-31T06:35:24.263925Z"
    },
    "papermill": {
     "duration": 0.027816,
     "end_time": "2024-08-31T06:35:24.268034",
     "exception": false,
     "start_time": "2024-08-31T06:35:24.240218",
     "status": "completed"
    },
    "tags": []
   },
   "outputs": [
    {
     "data": {
      "text/plain": [
       "VIDEO_NAME\n",
       "Eminem - Love The Way You Lie ft. Rihanna                 448\n",
       "LMFAO - Party Rock Anthem ft. Lauren Bennett, GoonRock    438\n",
       "Shakira - Waka Waka                                       370\n",
       "PSY - GANGNAM STYLE(?????) M/V                            350\n",
       "Katy Perry - Roar                                         350\n",
       "Name: count, dtype: int64"
      ]
     },
     "execution_count": 11,
     "metadata": {},
     "output_type": "execute_result"
    }
   ],
   "source": [
    "df[\"VIDEO_NAME\"].value_counts().sort_values(ascending=False)[:5]"
   ]
  },
  {
   "cell_type": "markdown",
   "id": "fcf89f3e",
   "metadata": {
    "papermill": {
     "duration": 0.012166,
     "end_time": "2024-08-31T06:35:24.292867",
     "exception": false,
     "start_time": "2024-08-31T06:35:24.280701",
     "status": "completed"
    },
    "tags": []
   },
   "source": [
    "## What days were the most comments written?"
   ]
  },
  {
   "cell_type": "code",
   "execution_count": 12,
   "id": "38d16e8d",
   "metadata": {
    "execution": {
     "iopub.execute_input": "2024-08-31T06:35:24.320700Z",
     "iopub.status.busy": "2024-08-31T06:35:24.320252Z",
     "iopub.status.idle": "2024-08-31T06:35:24.329488Z",
     "shell.execute_reply": "2024-08-31T06:35:24.328017Z"
    },
    "papermill": {
     "duration": 0.025956,
     "end_time": "2024-08-31T06:35:24.332110",
     "exception": false,
     "start_time": "2024-08-31T06:35:24.306154",
     "status": "completed"
    },
    "tags": []
   },
   "outputs": [],
   "source": [
    "df[\"DATE\"] = df[\"DATE\"].apply(lambda x: str(x).split('T')[0])"
   ]
  },
  {
   "cell_type": "code",
   "execution_count": 13,
   "id": "b4f3c3f4",
   "metadata": {
    "execution": {
     "iopub.execute_input": "2024-08-31T06:35:24.359357Z",
     "iopub.status.busy": "2024-08-31T06:35:24.358860Z",
     "iopub.status.idle": "2024-08-31T06:35:24.370554Z",
     "shell.execute_reply": "2024-08-31T06:35:24.369292Z"
    },
    "papermill": {
     "duration": 0.028204,
     "end_time": "2024-08-31T06:35:24.373083",
     "exception": false,
     "start_time": "2024-08-31T06:35:24.344879",
     "status": "completed"
    },
    "tags": []
   },
   "outputs": [
    {
     "data": {
      "text/plain": [
       "DATE\n",
       "2014-11-07    74\n",
       "2014-11-08    68\n",
       "2015-05-26    66\n",
       "2015-05-23    59\n",
       "Name: count, dtype: int64"
      ]
     },
     "execution_count": 13,
     "metadata": {},
     "output_type": "execute_result"
    }
   ],
   "source": [
    "df[\"DATE\"].value_counts().sort_values(ascending=False)[1:5]"
   ]
  },
  {
   "cell_type": "markdown",
   "id": "3eac5c6a",
   "metadata": {
    "papermill": {
     "duration": 0.013124,
     "end_time": "2024-08-31T06:35:24.399026",
     "exception": false,
     "start_time": "2024-08-31T06:35:24.385902",
     "status": "completed"
    },
    "tags": []
   },
   "source": [
    "# Garbage Treatment"
   ]
  },
  {
   "cell_type": "code",
   "execution_count": 14,
   "id": "674b6316",
   "metadata": {
    "execution": {
     "iopub.execute_input": "2024-08-31T06:35:24.428691Z",
     "iopub.status.busy": "2024-08-31T06:35:24.428214Z",
     "iopub.status.idle": "2024-08-31T06:35:24.442216Z",
     "shell.execute_reply": "2024-08-31T06:35:24.440955Z"
    },
    "papermill": {
     "duration": 0.032846,
     "end_time": "2024-08-31T06:35:24.445213",
     "exception": false,
     "start_time": "2024-08-31T06:35:24.412367",
     "status": "completed"
    },
    "tags": []
   },
   "outputs": [],
   "source": [
    "df.drop_duplicates(inplace=True)"
   ]
  },
  {
   "cell_type": "markdown",
   "id": "a2c69224",
   "metadata": {
    "papermill": {
     "duration": 0.01315,
     "end_time": "2024-08-31T06:35:24.473467",
     "exception": false,
     "start_time": "2024-08-31T06:35:24.460317",
     "status": "completed"
    },
    "tags": []
   },
   "source": [
    "# Feature Selection"
   ]
  },
  {
   "cell_type": "code",
   "execution_count": 15,
   "id": "5d4667bb",
   "metadata": {
    "execution": {
     "iopub.execute_input": "2024-08-31T06:35:24.502831Z",
     "iopub.status.busy": "2024-08-31T06:35:24.502380Z",
     "iopub.status.idle": "2024-08-31T06:35:24.513604Z",
     "shell.execute_reply": "2024-08-31T06:35:24.511915Z"
    },
    "papermill": {
     "duration": 0.02899,
     "end_time": "2024-08-31T06:35:24.516505",
     "exception": false,
     "start_time": "2024-08-31T06:35:24.487515",
     "status": "completed"
    },
    "tags": []
   },
   "outputs": [],
   "source": [
    "df[\"comment_info\"] = df[\"AUTHOR\"] + \"  \" + df[\"VIDEO_NAME\"] + \"  \" + df[\"CONTENT\"]"
   ]
  },
  {
   "cell_type": "code",
   "execution_count": 16,
   "id": "4f8c0e31",
   "metadata": {
    "execution": {
     "iopub.execute_input": "2024-08-31T06:35:24.545877Z",
     "iopub.status.busy": "2024-08-31T06:35:24.545457Z",
     "iopub.status.idle": "2024-08-31T06:35:24.551481Z",
     "shell.execute_reply": "2024-08-31T06:35:24.550191Z"
    },
    "papermill": {
     "duration": 0.024069,
     "end_time": "2024-08-31T06:35:24.554580",
     "exception": false,
     "start_time": "2024-08-31T06:35:24.530511",
     "status": "completed"
    },
    "tags": []
   },
   "outputs": [],
   "source": [
    "X = df[\"comment_info\"]\n",
    "y = df[\"CLASS\"]"
   ]
  },
  {
   "cell_type": "markdown",
   "id": "6d78bf6f",
   "metadata": {
    "papermill": {
     "duration": 0.014489,
     "end_time": "2024-08-31T06:35:24.584170",
     "exception": false,
     "start_time": "2024-08-31T06:35:24.569681",
     "status": "completed"
    },
    "tags": []
   },
   "source": [
    "# Encoding"
   ]
  },
  {
   "cell_type": "code",
   "execution_count": 17,
   "id": "b488b0bd",
   "metadata": {
    "execution": {
     "iopub.execute_input": "2024-08-31T06:35:24.616906Z",
     "iopub.status.busy": "2024-08-31T06:35:24.616445Z",
     "iopub.status.idle": "2024-08-31T06:35:24.733460Z",
     "shell.execute_reply": "2024-08-31T06:35:24.731908Z"
    },
    "papermill": {
     "duration": 0.137108,
     "end_time": "2024-08-31T06:35:24.736802",
     "exception": false,
     "start_time": "2024-08-31T06:35:24.599694",
     "status": "completed"
    },
    "tags": []
   },
   "outputs": [],
   "source": [
    "vectorizer = TfidfVectorizer()\n",
    "\n",
    "X = vectorizer.fit_transform(X)"
   ]
  },
  {
   "cell_type": "code",
   "execution_count": 18,
   "id": "64bdcf4d",
   "metadata": {
    "execution": {
     "iopub.execute_input": "2024-08-31T06:35:24.764905Z",
     "iopub.status.busy": "2024-08-31T06:35:24.764430Z",
     "iopub.status.idle": "2024-08-31T06:35:24.772508Z",
     "shell.execute_reply": "2024-08-31T06:35:24.771060Z"
    },
    "papermill": {
     "duration": 0.025163,
     "end_time": "2024-08-31T06:35:24.775341",
     "exception": false,
     "start_time": "2024-08-31T06:35:24.750178",
     "status": "completed"
    },
    "tags": []
   },
   "outputs": [
    {
     "data": {
      "text/plain": [
       "(1953, 6980)"
      ]
     },
     "execution_count": 18,
     "metadata": {},
     "output_type": "execute_result"
    }
   ],
   "source": [
    "X.shape"
   ]
  },
  {
   "cell_type": "markdown",
   "id": "8f79d57a",
   "metadata": {
    "papermill": {
     "duration": 0.012472,
     "end_time": "2024-08-31T06:35:24.800939",
     "exception": false,
     "start_time": "2024-08-31T06:35:24.788467",
     "status": "completed"
    },
    "tags": []
   },
   "source": [
    "# Train Test Split"
   ]
  },
  {
   "cell_type": "code",
   "execution_count": 19,
   "id": "f4f946df",
   "metadata": {
    "execution": {
     "iopub.execute_input": "2024-08-31T06:35:24.831436Z",
     "iopub.status.busy": "2024-08-31T06:35:24.830984Z",
     "iopub.status.idle": "2024-08-31T06:35:24.844740Z",
     "shell.execute_reply": "2024-08-31T06:35:24.843495Z"
    },
    "papermill": {
     "duration": 0.031118,
     "end_time": "2024-08-31T06:35:24.847569",
     "exception": false,
     "start_time": "2024-08-31T06:35:24.816451",
     "status": "completed"
    },
    "tags": []
   },
   "outputs": [
    {
     "data": {
      "text/plain": [
       "((1562, 6980), (391, 6980), (1562,), (391,))"
      ]
     },
     "execution_count": 19,
     "metadata": {},
     "output_type": "execute_result"
    }
   ],
   "source": [
    "X_train, X_test, y_train, y_test = train_test_split(X, y, test_size=0.2, random_state=42)\n",
    "X_train.shape, X_test.shape, y_train.shape, y_test.shape"
   ]
  },
  {
   "cell_type": "markdown",
   "id": "7a2906a3",
   "metadata": {
    "papermill": {
     "duration": 0.012497,
     "end_time": "2024-08-31T06:35:24.873100",
     "exception": false,
     "start_time": "2024-08-31T06:35:24.860603",
     "status": "completed"
    },
    "tags": []
   },
   "source": [
    "# Model Building"
   ]
  },
  {
   "cell_type": "code",
   "execution_count": 20,
   "id": "4487ddfd",
   "metadata": {
    "execution": {
     "iopub.execute_input": "2024-08-31T06:35:24.901039Z",
     "iopub.status.busy": "2024-08-31T06:35:24.900586Z",
     "iopub.status.idle": "2024-08-31T06:35:24.905976Z",
     "shell.execute_reply": "2024-08-31T06:35:24.904613Z"
    },
    "papermill": {
     "duration": 0.022685,
     "end_time": "2024-08-31T06:35:24.908832",
     "exception": false,
     "start_time": "2024-08-31T06:35:24.886147",
     "status": "completed"
    },
    "tags": []
   },
   "outputs": [],
   "source": [
    "clf = LinearSVC()"
   ]
  },
  {
   "cell_type": "code",
   "execution_count": 21,
   "id": "227a650e",
   "metadata": {
    "execution": {
     "iopub.execute_input": "2024-08-31T06:35:24.938476Z",
     "iopub.status.busy": "2024-08-31T06:35:24.937468Z",
     "iopub.status.idle": "2024-08-31T06:35:24.956522Z",
     "shell.execute_reply": "2024-08-31T06:35:24.955316Z"
    },
    "papermill": {
     "duration": 0.037376,
     "end_time": "2024-08-31T06:35:24.959249",
     "exception": false,
     "start_time": "2024-08-31T06:35:24.921873",
     "status": "completed"
    },
    "tags": []
   },
   "outputs": [
    {
     "data": {
      "text/html": [
       "<style>#sk-container-id-1 {color: black;}#sk-container-id-1 pre{padding: 0;}#sk-container-id-1 div.sk-toggleable {background-color: white;}#sk-container-id-1 label.sk-toggleable__label {cursor: pointer;display: block;width: 100%;margin-bottom: 0;padding: 0.3em;box-sizing: border-box;text-align: center;}#sk-container-id-1 label.sk-toggleable__label-arrow:before {content: \"▸\";float: left;margin-right: 0.25em;color: #696969;}#sk-container-id-1 label.sk-toggleable__label-arrow:hover:before {color: black;}#sk-container-id-1 div.sk-estimator:hover label.sk-toggleable__label-arrow:before {color: black;}#sk-container-id-1 div.sk-toggleable__content {max-height: 0;max-width: 0;overflow: hidden;text-align: left;background-color: #f0f8ff;}#sk-container-id-1 div.sk-toggleable__content pre {margin: 0.2em;color: black;border-radius: 0.25em;background-color: #f0f8ff;}#sk-container-id-1 input.sk-toggleable__control:checked~div.sk-toggleable__content {max-height: 200px;max-width: 100%;overflow: auto;}#sk-container-id-1 input.sk-toggleable__control:checked~label.sk-toggleable__label-arrow:before {content: \"▾\";}#sk-container-id-1 div.sk-estimator input.sk-toggleable__control:checked~label.sk-toggleable__label {background-color: #d4ebff;}#sk-container-id-1 div.sk-label input.sk-toggleable__control:checked~label.sk-toggleable__label {background-color: #d4ebff;}#sk-container-id-1 input.sk-hidden--visually {border: 0;clip: rect(1px 1px 1px 1px);clip: rect(1px, 1px, 1px, 1px);height: 1px;margin: -1px;overflow: hidden;padding: 0;position: absolute;width: 1px;}#sk-container-id-1 div.sk-estimator {font-family: monospace;background-color: #f0f8ff;border: 1px dotted black;border-radius: 0.25em;box-sizing: border-box;margin-bottom: 0.5em;}#sk-container-id-1 div.sk-estimator:hover {background-color: #d4ebff;}#sk-container-id-1 div.sk-parallel-item::after {content: \"\";width: 100%;border-bottom: 1px solid gray;flex-grow: 1;}#sk-container-id-1 div.sk-label:hover label.sk-toggleable__label {background-color: #d4ebff;}#sk-container-id-1 div.sk-serial::before {content: \"\";position: absolute;border-left: 1px solid gray;box-sizing: border-box;top: 0;bottom: 0;left: 50%;z-index: 0;}#sk-container-id-1 div.sk-serial {display: flex;flex-direction: column;align-items: center;background-color: white;padding-right: 0.2em;padding-left: 0.2em;position: relative;}#sk-container-id-1 div.sk-item {position: relative;z-index: 1;}#sk-container-id-1 div.sk-parallel {display: flex;align-items: stretch;justify-content: center;background-color: white;position: relative;}#sk-container-id-1 div.sk-item::before, #sk-container-id-1 div.sk-parallel-item::before {content: \"\";position: absolute;border-left: 1px solid gray;box-sizing: border-box;top: 0;bottom: 0;left: 50%;z-index: -1;}#sk-container-id-1 div.sk-parallel-item {display: flex;flex-direction: column;z-index: 1;position: relative;background-color: white;}#sk-container-id-1 div.sk-parallel-item:first-child::after {align-self: flex-end;width: 50%;}#sk-container-id-1 div.sk-parallel-item:last-child::after {align-self: flex-start;width: 50%;}#sk-container-id-1 div.sk-parallel-item:only-child::after {width: 0;}#sk-container-id-1 div.sk-dashed-wrapped {border: 1px dashed gray;margin: 0 0.4em 0.5em 0.4em;box-sizing: border-box;padding-bottom: 0.4em;background-color: white;}#sk-container-id-1 div.sk-label label {font-family: monospace;font-weight: bold;display: inline-block;line-height: 1.2em;}#sk-container-id-1 div.sk-label-container {text-align: center;}#sk-container-id-1 div.sk-container {/* jupyter's `normalize.less` sets `[hidden] { display: none; }` but bootstrap.min.css set `[hidden] { display: none !important; }` so we also need the `!important` here to be able to override the default hidden behavior on the sphinx rendered scikit-learn.org. See: https://github.com/scikit-learn/scikit-learn/issues/21755 */display: inline-block !important;position: relative;}#sk-container-id-1 div.sk-text-repr-fallback {display: none;}</style><div id=\"sk-container-id-1\" class=\"sk-top-container\"><div class=\"sk-text-repr-fallback\"><pre>LinearSVC()</pre><b>In a Jupyter environment, please rerun this cell to show the HTML representation or trust the notebook. <br />On GitHub, the HTML representation is unable to render, please try loading this page with nbviewer.org.</b></div><div class=\"sk-container\" hidden><div class=\"sk-item\"><div class=\"sk-estimator sk-toggleable\"><input class=\"sk-toggleable__control sk-hidden--visually\" id=\"sk-estimator-id-1\" type=\"checkbox\" checked><label for=\"sk-estimator-id-1\" class=\"sk-toggleable__label sk-toggleable__label-arrow\">LinearSVC</label><div class=\"sk-toggleable__content\"><pre>LinearSVC()</pre></div></div></div></div></div>"
      ],
      "text/plain": [
       "LinearSVC()"
      ]
     },
     "execution_count": 21,
     "metadata": {},
     "output_type": "execute_result"
    }
   ],
   "source": [
    "clf.fit(X_train, y_train)"
   ]
  },
  {
   "cell_type": "markdown",
   "id": "2e93546e",
   "metadata": {
    "papermill": {
     "duration": 0.012954,
     "end_time": "2024-08-31T06:35:24.986307",
     "exception": false,
     "start_time": "2024-08-31T06:35:24.973353",
     "status": "completed"
    },
    "tags": []
   },
   "source": [
    "# Evaluation"
   ]
  },
  {
   "cell_type": "code",
   "execution_count": 22,
   "id": "22c07152",
   "metadata": {
    "execution": {
     "iopub.execute_input": "2024-08-31T06:35:25.015151Z",
     "iopub.status.busy": "2024-08-31T06:35:25.014646Z",
     "iopub.status.idle": "2024-08-31T06:35:25.021024Z",
     "shell.execute_reply": "2024-08-31T06:35:25.019796Z"
    },
    "papermill": {
     "duration": 0.023968,
     "end_time": "2024-08-31T06:35:25.023610",
     "exception": false,
     "start_time": "2024-08-31T06:35:24.999642",
     "status": "completed"
    },
    "tags": []
   },
   "outputs": [],
   "source": [
    "y_pred = clf.predict(X_test)"
   ]
  },
  {
   "cell_type": "code",
   "execution_count": 23,
   "id": "14e78e98",
   "metadata": {
    "execution": {
     "iopub.execute_input": "2024-08-31T06:35:25.052334Z",
     "iopub.status.busy": "2024-08-31T06:35:25.051438Z",
     "iopub.status.idle": "2024-08-31T06:35:25.070000Z",
     "shell.execute_reply": "2024-08-31T06:35:25.068546Z"
    },
    "papermill": {
     "duration": 0.036173,
     "end_time": "2024-08-31T06:35:25.073077",
     "exception": false,
     "start_time": "2024-08-31T06:35:25.036904",
     "status": "completed"
    },
    "tags": []
   },
   "outputs": [
    {
     "name": "stdout",
     "output_type": "stream",
     "text": [
      "              precision    recall  f1-score   support\n",
      "\n",
      "           0       0.93      0.98      0.95       170\n",
      "           1       0.99      0.94      0.96       221\n",
      "\n",
      "    accuracy                           0.96       391\n",
      "   macro avg       0.96      0.96      0.96       391\n",
      "weighted avg       0.96      0.96      0.96       391\n",
      "\n"
     ]
    }
   ],
   "source": [
    "print(classification_report(y_test, y_pred)) "
   ]
  },
  {
   "cell_type": "code",
   "execution_count": 24,
   "id": "a021f430",
   "metadata": {
    "execution": {
     "iopub.execute_input": "2024-08-31T06:35:25.101894Z",
     "iopub.status.busy": "2024-08-31T06:35:25.101444Z",
     "iopub.status.idle": "2024-08-31T06:35:25.110575Z",
     "shell.execute_reply": "2024-08-31T06:35:25.109317Z"
    },
    "papermill": {
     "duration": 0.026507,
     "end_time": "2024-08-31T06:35:25.113167",
     "exception": false,
     "start_time": "2024-08-31T06:35:25.086660",
     "status": "completed"
    },
    "tags": []
   },
   "outputs": [
    {
     "name": "stdout",
     "output_type": "stream",
     "text": [
      "[[167   3]\n",
      " [ 13 208]]\n"
     ]
    }
   ],
   "source": [
    "cm = confusion_matrix(y_test, y_pred)\n",
    "print(cm)"
   ]
  },
  {
   "cell_type": "code",
   "execution_count": 25,
   "id": "737f1929",
   "metadata": {
    "execution": {
     "iopub.execute_input": "2024-08-31T06:35:25.142387Z",
     "iopub.status.busy": "2024-08-31T06:35:25.141924Z",
     "iopub.status.idle": "2024-08-31T06:35:25.470492Z",
     "shell.execute_reply": "2024-08-31T06:35:25.469289Z"
    },
    "papermill": {
     "duration": 0.346651,
     "end_time": "2024-08-31T06:35:25.473388",
     "exception": false,
     "start_time": "2024-08-31T06:35:25.126737",
     "status": "completed"
    },
    "tags": []
   },
   "outputs": [
    {
     "data": {
      "image/png": "[encoded data removed]",
      "text/plain": [
       "<Figure size 1000x700 with 2 Axes>"
      ]
     },
     "metadata": {},
     "output_type": "display_data"
    }
   ],
   "source": [
    "plt.figure(figsize=(10, 7))\n",
    "sns.heatmap(cm, annot=True, fmt='d', cmap='icefire')\n",
    "plt.xlabel('Predicted Labels')\n",
    "plt.ylabel('True Labels')\n",
    "plt.title('Confusion Matrix Heatmap')\n",
    "plt.show()"
   ]
  }
 ],
 "metadata": {
  "kaggle": {
   "accelerator": "none",
   "dataSources": [
    {
     "datasetId": 5534004,
     "sourceId": 9160040,
     "sourceType": "datasetVersion"
    }
   ],
   "dockerImageVersionId": 30761,
   "isGpuEnabled": false,
   "isInternetEnabled": true,
   "language": "python",
   "sourceType": "notebook"
  },
  "kernelspec": {
   "display_name": "Python 3",
   "language": "python",
   "name": "python3"
  },
  "language_info": {
   "codemirror_mode": {
    "name": "ipython",
    "version": 3
   },
   "file_extension": ".py",
   "mimetype": "text/x-python",
   "name": "python",
   "nbconvert_exporter": "python",
   "pygments_lexer": "ipython3",
   "version": "3.11.1"
  },
  "papermill": {
   "default_parameters": {},
   "duration": 8.980074,
   "end_time": "2024-08-31T06:35:26.210565",
   "environment_variables": {},
   "exception": null,
   "input_path": "__notebook__.ipynb",
   "output_path": "__notebook__.ipynb",
   "parameters": {},
   "start_time": "2024-08-31T06:35:17.230491",
   "version": "2.6.0"
  }
 },
 "nbformat": 4,
 "nbformat_minor": 5
}
